{
 "cells": [
  {
   "cell_type": "markdown",
   "id": "3bd03fa4-0231-4877-8c88-a09ea0d13936",
   "metadata": {},
   "source": [
    "# Robot Localization with Python and Particle Filters\n"
   ]
  },
  {
   "cell_type": "markdown",
   "id": "020b1541-2935-4ad4-8e2c-229f3cc00865",
   "metadata": {},
   "source": [
    "Import libraries and load map"
   ]
  },
  {
   "cell_type": "code",
   "execution_count": 44,
   "id": "6a1b085f-e70a-4a71-9e24-a9e05312e236",
   "metadata": {},
   "outputs": [
    {
     "name": "stdout",
     "output_type": "stream",
     "text": [
      "[[ 79  80  82 ... 133 148 156]\n",
      " [ 78  79  81 ... 138 156 164]\n",
      " [ 76  77  79 ... 147 170 180]\n",
      " ...\n",
      " [181 181 182 ... 174 172 171]\n",
      " [178 178 178 ... 180 179 178]\n",
      " [177 177 177 ... 183 182 182]]\n"
     ]
    }
   ],
   "source": [
    "import numpy as np\n",
    "import cv2\n",
    "\n",
    "map = cv2.imread(\"images/map.png\", 0) # 0 for greyscale, single-channel\n",
    "HEIGHT, WIDTH = map.shape\n",
    "print(map)\n",
    "\n",
    "rx, ry, rtheta = (WIDTH/4, HEIGHT/4, 0)\n"
   ]
  },
  {
   "cell_type": "markdown",
   "id": "98dda078-eb80-4c35-95be-3ee8df34e104",
   "metadata": {},
   "source": [
    "Map coordinate system\n",
    "\n",
    "![title](images/coords.png)\n",
    "\n",
    "CAUTION: The terrain height at X,Y coordinates is map(Y,X)."
   ]
  },
  {
   "cell_type": "markdown",
   "id": "49bb4f1a-4b1b-41a4-a05f-86fd62466dfa",
   "metadata": {},
   "source": [
    "Read keyboard input."
   ]
  },
  {
   "cell_type": "code",
   "execution_count": 45,
   "id": "3792fdac-9328-4d38-9681-4863b5b0b9cf",
   "metadata": {},
   "outputs": [],
   "source": [
    "STEP = 5\n",
    "TURN = np.radians(25)\n",
    "\n",
    "def get_input():\n",
    "    fwd = 0\n",
    "    turn = 0\n",
    "    halt = False\n",
    "    k = cv2.waitKey(0)\n",
    "    if k == 82: # Up arrow\n",
    "        fwd = STEP\n",
    "    elif k == 83: # Right arrow\n",
    "        turn = TURN\n",
    "    elif k == 81: # Left arrow\n",
    "        turn = -TURN\n",
    "    else:\n",
    "        halt = True\n",
    "    return fwd, turn, halt\n"
   ]
  },
  {
   "cell_type": "markdown",
   "id": "4a729f4f-9e58-438d-89b1-4494cbeba32e",
   "metadata": {},
   "source": [
    "Move the robot, with Gausssian noise.\n",
    "\n",
    "![title](images/gaussian.png)"
   ]
  },
  {
   "cell_type": "code",
   "execution_count": 46,
   "id": "3ff7c06f-8996-4491-b835-2f492e4bf1a1",
   "metadata": {},
   "outputs": [],
   "source": [
    "SIGMA_STEP = 0.5 # the standard deviation for the forward movement\n",
    "SIGMA_TURN = np.radians(5) # the standard deviation for the steering command\n",
    "\n",
    "def move_robot(rx, ry, rtheta, fwd, turn):\n",
    "    # Re-orient and step robot, with noise\n",
    "    fwd_noisy = fwd + np.random.normal(0.0, SIGMA_STEP, 1)\n",
    "    rx += fwd_noisy * np.cos(rtheta)\n",
    "    ry += fwd_noisy * np.sin(rtheta)\n",
    "    print(\"fwd_noisy=\", fwd_noisy)\n",
    "    \n",
    "    turn_noisy = turn + np.random.normal(0.0, SIGMA_TURN, 1)\n",
    "    rtheta += turn_noisy\n",
    "    print(\"turn_noisy=\", np.degrees(turn_noisy))\n",
    "\n",
    "    return rx, ry, rtheta\n"
   ]
  },
  {
   "cell_type": "markdown",
   "id": "6f466b1c-8400-4f69-8f5c-62e3c02c9451",
   "metadata": {},
   "source": [
    "Initialize particle cloud."
   ]
  },
  {
   "cell_type": "code",
   "execution_count": 47,
   "id": "e013ae74-0bc5-4b7b-ad4e-ca2892ecb180",
   "metadata": {},
   "outputs": [],
   "source": [
    "NUM_PARTICLES = 3000\n",
    "\n",
    "def init():\n",
    "    particles = np.random.rand(NUM_PARTICLES, 3)\n",
    "    particles *= np.array( (WIDTH, HEIGHT, np.radians(360)) )\n",
    "    return particles\n"
   ]
  },
  {
   "cell_type": "markdown",
   "id": "f0194ce3-02eb-4a6b-9ae2-e24244548cfd",
   "metadata": {},
   "source": [
    "Move the particles."
   ]
  },
  {
   "cell_type": "code",
   "execution_count": 48,
   "id": "82a0503f-bc64-47ff-86fe-6ddbcf40272a",
   "metadata": {},
   "outputs": [],
   "source": [
    "def move_particles(particles, fwd, turn):\n",
    "    particles[:,0] += fwd * np.cos(particles[:,2])\n",
    "    particles[:,1] += fwd * np.sin(particles[:,2])\n",
    "    particles[:,2] += turn\n",
    "\n",
    "    particles[:,0] = np.clip(particles[:,0], 0.0, WIDTH-1)\n",
    "    particles[:,1] = np.clip(particles[:,1], 0.0, HEIGHT-1)\n",
    "    return particles"
   ]
  },
  {
   "cell_type": "markdown",
   "id": "151e44a9-6b15-46d7-8b3a-a965ba5e8957",
   "metadata": {},
   "source": [
    "Get value from robot's sensor."
   ]
  },
  {
   "cell_type": "code",
   "execution_count": 49,
   "id": "6745f983-5087-49af-aeca-a0b4aad43ce2",
   "metadata": {},
   "outputs": [],
   "source": [
    "def sense(x, y, noisy=False):\n",
    "    SIGMA_SENSOR = 5\n",
    "    x = int(x)\n",
    "    y = int(y)\n",
    "    if noisy:\n",
    "        return map[y,x] + np.random.normal(0.0, SIGMA_SENSOR, 1)\n",
    "    return map[y,x]"
   ]
  },
  {
   "cell_type": "markdown",
   "id": "6be894de-56a2-4421-a3c0-49df386d8c60",
   "metadata": {},
   "source": [
    "Compute particle weights."
   ]
  },
  {
   "cell_type": "code",
   "execution_count": 50,
   "id": "85d4a87c-528f-4518-8eaf-5b6898fa0d62",
   "metadata": {},
   "outputs": [],
   "source": [
    "def compute_weights(particles, robot_sensor):    \n",
    "    errors = np.zeros(NUM_PARTICLES)\n",
    "    for i in range(NUM_PARTICLES):\n",
    "        particle_sensor = sense(particles[i,0], particles[i,1])\n",
    "        errors[i] = abs(robot_sensor - particle_sensor)\n",
    "    weights = np.max(errors) - errors\n",
    "\n",
    "    # Kill off particles on edge\n",
    "    weights[\n",
    "        (particles[:,0] == 0) |\n",
    "        (particles[:,0] == WIDTH-1) |\n",
    "        (particles[:,1] == 0) |\n",
    "        (particles[:,1] == HEIGHT-1)\n",
    "    ] = 0.0\n",
    "\n",
    "    # Increase sensitivity\n",
    "    weights = weights ** 3\n",
    "    return weights\n"
   ]
  },
  {
   "cell_type": "markdown",
   "id": "058acd9f-c05e-4cbf-b7ed-2478b21e72e4",
   "metadata": {},
   "source": [
    "Resample the particles."
   ]
  },
  {
   "cell_type": "code",
   "execution_count": 51,
   "id": "c248d2ec-9cd9-4b10-b183-57475af0a66c",
   "metadata": {},
   "outputs": [],
   "source": [
    "def resample(particles, weights):\n",
    "    probabilities = weights / np.sum(weights)\n",
    "    new_index = np.random.choice(\n",
    "        NUM_PARTICLES,\n",
    "        size=NUM_PARTICLES,\n",
    "        p=probabilities\n",
    "    )\n",
    "    particles = particles[new_index,:]\n",
    "    return particles"
   ]
  },
  {
   "cell_type": "markdown",
   "id": "d065be64-6036-47b5-84a2-3e52d4ee920c",
   "metadata": {},
   "source": [
    "Add noise to the particles."
   ]
  },
  {
   "cell_type": "code",
   "execution_count": 52,
   "id": "3b1bfb5d-9e6b-44d7-9903-9ed14039fc33",
   "metadata": {},
   "outputs": [],
   "source": [
    "def add_noise(particles):\n",
    "    SIGMA_PARTICLE_STEP = 2 \n",
    "    SIGMA_PARTICLE_TURN = np.pi / 24 #np.pi / 24\n",
    "    noise = np.concatenate((\n",
    "        np.random.normal(0, SIGMA_PARTICLE_STEP, (NUM_PARTICLES,1)),\n",
    "        np.random.normal(0, SIGMA_PARTICLE_STEP, (NUM_PARTICLES,1)),\n",
    "        np.random.normal(0, SIGMA_PARTICLE_TURN, (NUM_PARTICLES,1)),\n",
    "        ),\n",
    "        axis=1\n",
    "    )\n",
    "    particles += noise\n",
    "    return particles\n"
   ]
  },
  {
   "cell_type": "markdown",
   "id": "95fbad2a-7d2e-4d5e-928e-7cedd0cc34f2",
   "metadata": {},
   "source": [
    "Display robot, particles and best guess."
   ]
  },
  {
   "cell_type": "code",
   "execution_count": 53,
   "id": "006a0c4f-6352-4c47-823b-00549f66c4cb",
   "metadata": {},
   "outputs": [],
   "source": [
    "def display(map, rx, ry, particles):\n",
    "    lmap = cv2.cvtColor(map, cv2.COLOR_GRAY2BGR)\n",
    "    \n",
    "    # Display particles\n",
    "    if len(particles) > 0 and False:\n",
    "        for i in range(NUM_PARTICLES):\n",
    "            cv2.circle(lmap, \n",
    "                       (int(particles[i,0]), int(particles[i,1])), \n",
    "                       1, \n",
    "                       (255,0,0), \n",
    "                       1)\n",
    "        \n",
    "    # Display robot\n",
    "    cv2.circle(lmap, (int(rx), int(ry)), 5, (0,255,0), 10)\n",
    "\n",
    "    # Display best guess\n",
    "    if len(particles) > 0:\n",
    "        px = np.mean(particles[:,0])\n",
    "        py = np.mean(particles[:,1])\n",
    "        cv2.circle(lmap, (int(px), int(py)), 5, (0,0,255), 5)\n",
    "\n",
    "    cv2.imshow('map', lmap)"
   ]
  },
  {
   "cell_type": "markdown",
   "id": "a967ccbe-e950-4326-b42f-07a063e5ac45",
   "metadata": {},
   "source": [
    "Main routine."
   ]
  },
  {
   "cell_type": "code",
   "execution_count": null,
   "id": "02f42a9f-7034-4e45-b322-3b570f5e69e1",
   "metadata": {},
   "outputs": [],
   "source": [
    "particles = init()\n",
    "while True:\n",
    "    display(map, rx, ry, particles)\n",
    "    fwd, turn, halt = get_input()\n",
    "    if halt:\n",
    "        break\n",
    "    rx, ry, rtheta = move_robot(rx, ry, rtheta, fwd, turn)\n",
    "    particles = move_particles(particles, fwd, turn)\n",
    "    if fwd != 0:\n",
    "        robot_sensor = sense(rx, ry, noisy=True)        \n",
    "        weights = compute_weights(particles, robot_sensor)\n",
    "        particles = resample(particles, weights)\n",
    "        particles = add_noise(particles)\n",
    "    \n",
    "cv2.destroyAllWindows()                        \n"
   ]
  }
 ],
 "metadata": {
  "kernelspec": {
   "display_name": "Python 3 (ipykernel)",
   "language": "python",
   "name": "python3"
  },
  "language_info": {
   "codemirror_mode": {
    "name": "ipython",
    "version": 3
   },
   "file_extension": ".py",
   "mimetype": "text/x-python",
   "name": "python",
   "nbconvert_exporter": "python",
   "pygments_lexer": "ipython3",
   "version": "3.12.3"
  }
 },
 "nbformat": 4,
 "nbformat_minor": 5
}
